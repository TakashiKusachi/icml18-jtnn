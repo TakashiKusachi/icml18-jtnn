{
 "cells": [
  {
   "cell_type": "markdown",
   "metadata": {},
   "source": [
    "## download original database "
   ]
  },
  {
   "cell_type": "code",
   "execution_count": 1,
   "metadata": {},
   "outputs": [
    {
     "name": "stdout",
     "output_type": "stream",
     "text": [
      "fatal: destination path 'MassBank-data' already exists and is not an empty directory.\n"
     ]
    }
   ],
   "source": [
    "! git clone https://github.com/MassBank/MassBank-data.git"
   ]
  },
  {
   "cell_type": "code",
   "execution_count": 1,
   "metadata": {},
   "outputs": [],
   "source": [
    "import os\n",
    "from glob import glob\n",
    "import sys\n",
    "from multiprocessing import Pool\n",
    "import numpy as np\n",
    "import pickle\n",
    "\n",
    "from tqdm import tqdm"
   ]
  },
  {
   "cell_type": "code",
   "execution_count": 2,
   "metadata": {},
   "outputs": [
    {
     "name": "stderr",
     "output_type": "stream",
     "text": [
      "100%|██████████| 45/45 [00:00<00:00, 67.20it/s]"
     ]
    },
    {
     "name": "stdout",
     "output_type": "stream",
     "text": [
      "('number of file list', 56270)\n"
     ]
    },
    {
     "name": "stderr",
     "output_type": "stream",
     "text": [
      "\n"
     ]
    }
   ],
   "source": [
    "vender_list = glob(\"./MassBank-data/*\")\n",
    "file_list = []\n",
    "for ven in tqdm(vender_list):\n",
    "    file_list.extend([os.path.abspath(one) for one in glob(ven+\"/*.txt\")])\n",
    "\n",
    "print(\"number of file list\",len(file_list))"
   ]
  },
  {
   "cell_type": "code",
   "execution_count": 3,
   "metadata": {},
   "outputs": [
    {
     "name": "stdout",
     "output_type": "stream",
     "text": [
      "('number of expand data:', 56270)\n"
     ]
    }
   ],
   "source": [
    "NUMBET_OF_MP_PROCESSES = None # Number of processes use to parse and expand data.\n",
    "\n",
    "AUTHORS = \"AUTHORS\"\n",
    "AC_INSTRUMENT = \"AC$INSTRUMENT\"\n",
    "AC_INSTRUMENT_TYPE = \"AC$INSTRUMENT_TYPE\"\n",
    "CH_NAME = \"CH$NAME\"\n",
    "CH_SMILES = \"CH$SMILES\"\n",
    "AC_MASS_SPECTROETRY = \"AC$MASS_SPECTROMETRY\"\n",
    "MS_TYPE = \"MS_TYPE\"\n",
    "ION_MODE = \"ION_MODE\"\n",
    "IONIZATION_ENERGY = \"IONIZATION_ENERGY\"\n",
    "\n",
    "def analyze(args):\n",
    "    num,path = args\n",
    "    #param init \n",
    "    auth = None\n",
    "    inst = None\n",
    "    inst_type = None\n",
    "    name = None\n",
    "    smiles = None\n",
    "    ms_type = None\n",
    "    ion_mode = None\n",
    "    ret = {}\n",
    "    with open(path) as f:\n",
    "        temp = f.read().split(\"\\n\")\n",
    "        for num,line in enumerate(temp):\n",
    "            row = line.split(\": \",1)\n",
    "            if row[0] == AUTHORS:\n",
    "                ret[\"authors\"]= row[1]\n",
    "            elif row[0] == AC_INSTRUMENT:\n",
    "                ret[\"instrument\"] = row[1]\n",
    "            elif row[0] == AC_INSTRUMENT_TYPE:\n",
    "                ret[\"instrument_type\"] = row[1]\n",
    "            elif row[0] == CH_NAME:\n",
    "                ret[\"name\"] = row[1]\n",
    "            elif row[0] == CH_SMILES:\n",
    "                ret[\"smiles\"] = row[1]\n",
    "            elif row[0] == AC_MASS_SPECTROETRY:\n",
    "                label,_type = row[1].split(\" \",1)\n",
    "                if label == MS_TYPE:\n",
    "                    ret[\"ms_type\"] = _type\n",
    "                elif label == ION_MODE:\n",
    "                    ret[\"ion_mode\"] = _type\n",
    "                elif label == IONIZATION_ENERGY:\n",
    "                    ret[\"ionization_energy\"] = _type\n",
    "            elif row[0] == \"PK$PEAK\":\n",
    "                peak_start = num+1\n",
    "        peak_x,peak_y = zip(*[one.split(\" \")[2:4] for one in temp[peak_start:-1] if one != \"//\"])\n",
    "        ret[\"peak_x\"] = np.array(peak_x,dtype=np.float32)\n",
    "        ret[\"peak_y\"] = np.array(peak_y,dtype=np.float32)\n",
    "    ret[\"path\"] = path\n",
    "    return ret\n",
    "\n",
    "p = Pool(processes=NUMBET_OF_MP_PROCESSES)\n",
    "ret = p.map(analyze,enumerate(file_list))\n",
    "p.close()\n",
    "p.join()\n",
    "\n",
    "print(\"number of expand data:\",len(ret))\n",
    "\n",
    "import pickle\n",
    "with open(\"massbank.pkl\",\"wb\") as f:\n",
    "    pickle.dump(ret,f,protocol=2)\n",
    "\n",
    "def is_select(one):\n",
    "    return one[\"smiles\"]!=\"N/A\"\n",
    "    \n",
    "with open(\"massbank_smiles_list.txt\",\"w\") as f:\n",
    "    f.write(\"\\n\".join([one[\"smiles\"] for one in ret if is_select(one)]))"
   ]
  },
  {
   "cell_type": "code",
   "execution_count": 25,
   "metadata": {},
   "outputs": [
    {
     "name": "stdout",
     "output_type": "stream",
     "text": [
      "get zinc list\n",
      "Number of zinc dataset: 249456\n",
      "get massbank list\n",
      "Number of massbank dataset: 55278\n",
      "Check Conflict\n",
      "Number of Conflicted :256521 \n"
     ]
    }
   ],
   "source": [
    "from rdkit import Chem\n",
    "from multiprocessing import Pool\n",
    "\n",
    "zinc_path = \"../data/zinc/all.txt\"\n",
    "massbank_path = \"./massbank_smiles_list.txt\"\n",
    "\n",
    "print(\"get zinc list\")\n",
    "with open(zinc_path) as f:\n",
    "    zinc_mols = [Chem.MolFromSmiles(one.strip()) for one in f.readlines() if one != \"\\n\"]\n",
    "print(\"Number of zinc dataset: %d\" % (len(zinc_mols)))\n",
    "    \n",
    "print(\"get massbank list\")\n",
    "with open(massbank_path) as f:\n",
    "    massbank_mols = [Chem.MolFromSmiles(one.strip()) for one in f.readlines() if one != \"\\n\"]\n",
    "print(\"Number of massbank dataset: %d\" % (len(massbank_mols)))\n",
    "\n",
    "smiles_list = [Chem.MolToSmiles(one) for one in zinc_mols]\n",
    "smiles_list.extend([Chem.MolToSmiles(one) for one in massbank_mols])\n",
    "\n",
    "def check_comflict(mol):\n",
    "    global smiles_list\n",
    "    flag = [True for one in smiles_list if mol == one]\n",
    "    return len(flag) != 1\n",
    "\n",
    "print(\"Check Conflict\")\n",
    "p = Pool()\n",
    "ret = p.map(check_comflict,smiles_list)\n",
    "p.close()\n",
    "p.join()\n",
    "result = [one for i,(one,flag) in enumerate(zip(smiles_list,ret)) if not flag]\n",
    "print(\"Number of Conflicted :%d \" %(len(result)))\n",
    "\n",
    "del zinc_mols,massbank_mols,ret,p"
   ]
  },
  {
   "cell_type": "code",
   "execution_count": 26,
   "metadata": {},
   "outputs": [
    {
     "name": "stdout",
     "output_type": "stream",
     "text": [
      "256521\n"
     ]
    }
   ],
   "source": [
    "print len(result)"
   ]
  },
  {
   "cell_type": "code",
   "execution_count": 27,
   "metadata": {},
   "outputs": [],
   "source": [
    "with open(\"all_smiles.txt\",\"w\") as f:\n",
    "    f.write(\"\\n\".join(result))"
   ]
  },
  {
   "cell_type": "code",
   "execution_count": 14,
   "metadata": {},
   "outputs": [
    {
     "name": "stdout",
     "output_type": "stream",
     "text": [
      "CCC(C)C\n",
      "CCC(C)C\n"
     ]
    },
    {
     "data": {
      "text/plain": [
       "False"
      ]
     },
     "execution_count": 14,
     "metadata": {},
     "output_type": "execute_result"
    }
   ],
   "source": [
    "mol1 = Chem.MolFromSmiles(\"CCC(C)C\")\n",
    "mol2 = Chem.MolFromSmiles(\"CC(C)CC\")\n",
    "print Chem.MolToSmiles(mol1)\n",
    "print Chem.MolToSmiles(mol2)\n",
    "mol1 == mol2"
   ]
  },
  {
   "cell_type": "code",
   "execution_count": null,
   "metadata": {},
   "outputs": [],
   "source": []
  }
 ],
 "metadata": {
  "kernelspec": {
   "display_name": "jtvae",
   "language": "python",
   "name": "jtvae"
  },
  "language_info": {
   "codemirror_mode": {
    "name": "ipython",
    "version": 2
   },
   "file_extension": ".py",
   "mimetype": "text/x-python",
   "name": "python",
   "nbconvert_exporter": "python",
   "pygments_lexer": "ipython2",
   "version": "2.7.15"
  }
 },
 "nbformat": 4,
 "nbformat_minor": 2
}
