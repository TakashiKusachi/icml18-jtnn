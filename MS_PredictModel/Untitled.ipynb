{
 "cells": [
  {
   "cell_type": "markdown",
   "metadata": {},
   "source": [
    "# 学習プログラム"
   ]
  },
  {
   "cell_type": "markdown",
   "metadata": {},
   "source": [
    "## path通し"
   ]
  },
  {
   "cell_type": "code",
   "execution_count": 1,
   "metadata": {},
   "outputs": [],
   "source": [
    "import sys\n",
    "import os\n",
    "\n",
    "sys.path.append(os.path.split(os.getcwd())[0])\n"
   ]
  },
  {
   "cell_type": "markdown",
   "metadata": {},
   "source": [
    "## データプレプロセス"
   ]
  },
  {
   "cell_type": "markdown",
   "metadata": {},
   "source": [
    "## vocablary作成\n",
    "すでにvocab.txtが作成済みである場合不用"
   ]
  },
  {
   "cell_type": "code",
   "execution_count": 2,
   "metadata": {},
   "outputs": [
    {
     "name": "stdin",
     "output_type": "stream",
     "text": [
      "user aisiars\n",
      " \n"
     ]
    },
    {
     "name": "stdout",
     "output_type": "stream",
     "text": [
      "Something went wrong: 1045 (28000): Access denied for user 'aisiars'@'localhost' (using password: NO)\n"
     ]
    },
    {
     "ename": "NameError",
     "evalue": "name 'connect' is not defined",
     "output_type": "error",
     "traceback": [
      "\u001b[0;31m\u001b[0m",
      "\u001b[0;31mNameError\u001b[0mTraceback (most recent call last)",
      "\u001b[0;32m<ipython-input-2-d12f68532f65>\u001b[0m in \u001b[0;36m<module>\u001b[0;34m()\u001b[0m\n\u001b[1;32m     31\u001b[0m \u001b[0;32mfinally\u001b[0m\u001b[0;34m:\u001b[0m\u001b[0;34m\u001b[0m\u001b[0m\n\u001b[1;32m     32\u001b[0m     \u001b[0;32mif\u001b[0m \u001b[0mpasswd\u001b[0m \u001b[0;34m:\u001b[0m \u001b[0;32mdel\u001b[0m \u001b[0mpasswd\u001b[0m\u001b[0;34m\u001b[0m\u001b[0m\n\u001b[0;32m---> 33\u001b[0;31m     \u001b[0;32mif\u001b[0m \u001b[0mconnect\u001b[0m\u001b[0;34m:\u001b[0m \u001b[0mconnect\u001b[0m\u001b[0;34m.\u001b[0m\u001b[0mclose\u001b[0m\u001b[0;34m(\u001b[0m\u001b[0;34m)\u001b[0m\u001b[0;34m\u001b[0m\u001b[0m\n\u001b[0m\u001b[1;32m     34\u001b[0m     \u001b[0;32mif\u001b[0m \u001b[0mcursor\u001b[0m\u001b[0;34m:\u001b[0m \u001b[0mcursor\u001b[0m\u001b[0;34m.\u001b[0m\u001b[0mclose\u001b[0m\u001b[0;34m(\u001b[0m\u001b[0;34m)\u001b[0m\u001b[0;34m\u001b[0m\u001b[0m\n\u001b[1;32m     35\u001b[0m \u001b[0;34m\u001b[0m\u001b[0m\n",
      "\u001b[0;31mNameError\u001b[0m: name 'connect' is not defined"
     ]
    }
   ],
   "source": [
    "from fast_jtnn.mol_tree import MolTree\n",
    "from getpass import getpass,getuser\n",
    "\n",
    "import mysql\n",
    "from mysql import connector\n",
    "import warnings\n",
    "\n",
    "# SQL server profile\n",
    "host = \"localhost\"\n",
    "user = None\n",
    "passwd = None\n",
    "port = 3306\n",
    "database=\"chemoinfo\"\n",
    "\n",
    "# \n",
    "VOCAB_FILE = \"./MS_vocab.txt\"\n",
    "\n",
    "# get massbank data from SQL server\n",
    "try:\n",
    "    if not isinstance(user,str):\n",
    "        user = raw_input(\"user\")\n",
    "    if not isinstance(passwd,str):\n",
    "        passwd = getpass()\n",
    "    connect = connector.connect(host=host,user=user,password=passwd,port=port,database=database)\n",
    "    cursor = connect.cursor()\n",
    "    cursor.execute(\"\"\"select smiles from massbank where ms_type=\"MS\" and instrument_type=\"EI-B\" and smiles<>'N/A'; \"\"\")\n",
    "    smiles_list = cursor.fetchall()\n",
    "except mysql.connector.Error as e:\n",
    "    print(\"Something went wrong: {}\".format(e))\n",
    "    sys.exit(1)\n",
    "finally:\n",
    "    if passwd : del passwd\n",
    "    if connect: connect.close()\n",
    "    if cursor: cursor.close()\n",
    "\n",
    "# create vocablary\n",
    "succes = 0\n",
    "fault = 0\n",
    "cset = set()\n",
    "for one in smiles_list:\n",
    "    try:\n",
    "        mol = MolTree(one[0])\n",
    "    except AttributeError as e:\n",
    "        warnings.warn(\"Entered An SMILES that does not meet the rules\")\n",
    "        continue\n",
    "    for c in mol.nodes:\n",
    "        cset.add(c.smiles)\n",
    "\n",
    "# write vocab\n",
    "with open(VOCAB_FILE,\"w\") as f:\n",
    "    for one in cset:\n",
    "        f.write(one+\"\\n\")"
   ]
  },
  {
   "cell_type": "markdown",
   "metadata": {},
   "source": [
    "! mkdir vae_model/\n",
    "%run ../fast_molvae/vae_train.py --train processed --vocab ./MS_vocab.txt --save_dir vae_model/"
   ]
  },
  {
   "cell_type": "markdown",
   "metadata": {},
   "source": [
    "# Vocab,datasetのロード"
   ]
  },
  {
   "cell_type": "code",
   "execution_count": 2,
   "metadata": {},
   "outputs": [],
   "source": [
    "from fast_jtnn import *\n",
    "from MS_PredictModel import MS_Dataset,MS_Dataset_pickle\n",
    "import pickle\n",
    "\n",
    "VOCAB_FILE = \"./MS_vocab.txt\"\n",
    "\n",
    "vocab = [x.strip(\"\\r\\n \") for x in open(VOCAB_FILE,\"r\")]\n",
    "vocab = Vocab(vocab)\n",
    "\n",
    "'''\n",
    "MS_Dataset.QUERY = \"\"\"select smiles,file_path from massbank where ms_type=\"MS\" and instrument_type=\"EI-B\" and smiles<>'N/A';\"\"\"\n",
    "dataset = MS_Dataset(vocab=vocab,host=\"localhost\",database=\"chemoinfo\",batch_size=20)\n",
    "'''\n",
    "\n",
    "dataset=MS_Dataset_pickle(\"./massbank.pkl\",vocab,batch_size=20)"
   ]
  },
  {
   "cell_type": "markdown",
   "metadata": {},
   "source": [
    "## モデルの作成"
   ]
  },
  {
   "cell_type": "code",
   "execution_count": 3,
   "metadata": {},
   "outputs": [
    {
     "name": "stderr",
     "output_type": "stream",
     "text": [
      "/usr/local/anaconda-aisiars/envs/jtvae/lib/python2.7/site-packages/torch/nn/_reduction.py:49: UserWarning: size_average and reduce args will be deprecated, please use reduction='sum' instead.\n",
      "  warnings.warn(warning.format(ret))\n"
     ]
    },
    {
     "name": "stdout",
     "output_type": "stream",
     "text": [
      "JTNNVAE(\n",
      "  (jtnn): JTNNEncoder(\n",
      "    (embedding): Embedding(365, 100)\n",
      "    (outputNN): Sequential(\n",
      "      (0): Linear(in_features=200, out_features=100, bias=True)\n",
      "      (1): ReLU()\n",
      "    )\n",
      "    (GRU): GraphGRU(\n",
      "      (W_z): Linear(in_features=200, out_features=100, bias=True)\n",
      "      (W_r): Linear(in_features=100, out_features=100, bias=False)\n",
      "      (U_r): Linear(in_features=100, out_features=100, bias=True)\n",
      "      (W_h): Linear(in_features=200, out_features=100, bias=True)\n",
      "    )\n",
      "  )\n",
      "  (decoder): JTNNDecoder(\n",
      "    (embedding): Embedding(365, 100)\n",
      "    (W_z): Linear(in_features=200, out_features=100, bias=True)\n",
      "    (U_r): Linear(in_features=100, out_features=100, bias=False)\n",
      "    (W_r): Linear(in_features=100, out_features=100, bias=True)\n",
      "    (W_h): Linear(in_features=200, out_features=100, bias=True)\n",
      "    (W): Linear(in_features=128, out_features=100, bias=True)\n",
      "    (U): Linear(in_features=128, out_features=100, bias=True)\n",
      "    (U_i): Linear(in_features=200, out_features=100, bias=True)\n",
      "    (W_o): Linear(in_features=100, out_features=365, bias=True)\n",
      "    (U_o): Linear(in_features=100, out_features=1, bias=True)\n",
      "    (pred_loss): CrossEntropyLoss()\n",
      "    (stop_loss): BCEWithLogitsLoss()\n",
      "  )\n",
      "  (jtmpn): JTMPN(\n",
      "    (W_i): Linear(in_features=40, out_features=100, bias=False)\n",
      "    (W_h): Linear(in_features=100, out_features=100, bias=False)\n",
      "    (W_o): Linear(in_features=135, out_features=100, bias=True)\n",
      "  )\n",
      "  (mpn): MPN(\n",
      "    (W_i): Linear(in_features=50, out_features=100, bias=False)\n",
      "    (W_h): Linear(in_features=100, out_features=100, bias=False)\n",
      "    (W_o): Linear(in_features=139, out_features=100, bias=True)\n",
      "  )\n",
      "  (A_assm): Linear(in_features=28, out_features=100, bias=False)\n",
      "  (assm_loss): CrossEntropyLoss()\n",
      "  (T_mean): Linear(in_features=100, out_features=28, bias=True)\n",
      "  (T_var): Linear(in_features=100, out_features=28, bias=True)\n",
      "  (G_mean): Linear(in_features=100, out_features=28, bias=True)\n",
      "  (G_var): Linear(in_features=100, out_features=28, bias=True)\n",
      ")\n",
      "ms_peak_encoder_lstm(\n",
      "  (rnn): LSTM(2, 100, batch_first=True)\n",
      "  (out): Linear(in_features=100, out_features=56, bias=True)\n",
      ")\n",
      "Model #Params: 367K\n",
      "Model #Params: 47K\n"
     ]
    }
   ],
   "source": [
    "from ms_encoder import ms_peak_encoder,ms_peak_encoder_lstm\n",
    "import torch.nn as nn\n",
    "import torch\n",
    "hidden_size = 100\n",
    "latent_size = 56\n",
    "depthT = 20\n",
    "depthG = 3\n",
    "\n",
    "dec_model = JTNNVAE(vocab, hidden_size, latent_size, depthT, depthG).cuda()\n",
    "print dec_model\n",
    "enc_model = ms_peak_encoder_lstm(dataset.max_spectrum_size,latent_size).cuda()\n",
    "print enc_model\n",
    "\n",
    "for param in dec_model.parameters():\n",
    "    if param.dim() == 1:\n",
    "        nn.init.constant_(param, 0)\n",
    "    else:\n",
    "        nn.init.xavier_normal_(param)\n",
    "load_model = \"./vae_model/model.iter-70000\"\n",
    "dec_model.load_state_dict(torch.load(load_model))\n",
    "print \"Model #Params: %dK\" % (sum([x.nelement() for x in dec_model.parameters()]) / 1000,)\n",
    "print \"Model #Params: %dK\" % (sum([x.nelement() for x in enc_model.parameters()]) / 1000,)"
   ]
  },
  {
   "cell_type": "markdown",
   "metadata": {},
   "source": [
    "## オプティマイザの設定"
   ]
  },
  {
   "cell_type": "code",
   "execution_count": 4,
   "metadata": {},
   "outputs": [],
   "source": [
    "import torch.optim as optim\n",
    "import torch.optim.lr_scheduler as lr_scheduler\n",
    "\n",
    "optimizer = optim.Adam(enc_model.parameters(), lr=1e-3)\n",
    "#optimizer = optim.SGD(enc_model.parameters(),lr=100)\n",
    "scheduler = lr_scheduler.ExponentialLR(optimizer, 0.9)\n",
    "scheduler.step()"
   ]
  },
  {
   "cell_type": "code",
   "execution_count": null,
   "metadata": {},
   "outputs": [
    {
     "name": "stdout",
     "output_type": "stream",
     "text": [
      "('epoch : ', 0)\n"
     ]
    },
    {
     "name": "stderr",
     "output_type": "stream",
     "text": [
      "/usr/local/anaconda-aisiars/envs/jtvae/lib/python2.7/site-packages/torch/nn/functional.py:1332: UserWarning: nn.functional.sigmoid is deprecated. Use torch.sigmoid instead.\n",
      "  warnings.warn(\"nn.functional.sigmoid is deprecated. Use torch.sigmoid instead.\")\n",
      "/usr/local/anaconda-aisiars/envs/jtvae/lib/python2.7/site-packages/torch/nn/functional.py:1320: UserWarning: nn.functional.tanh is deprecated. Use torch.tanh instead.\n",
      "  warnings.warn(\"nn.functional.tanh is deprecated. Use torch.tanh instead.\")\n"
     ]
    },
    {
     "name": "stdout",
     "output_type": "stream",
     "text": [
      "[200] , Word: 44.64, Topo: 87.53, Assm: 88.73\n",
      "[400] , Word: 47.66, Topo: 88.49, Assm: 89.26\n",
      "[600] , Word: 46.29, Topo: 87.45, Assm: 88.86\n",
      "('epoch : ', 1)\n",
      "[800] , Word: 46.31, Topo: 87.57, Assm: 89.36\n",
      "[1000] , Word: 46.57, Topo: 87.81, Assm: 89.88\n",
      "[1200] , Word: 47.24, Topo: 88.02, Assm: 89.26\n",
      "[1400] , Word: 46.38, Topo: 87.46, Assm: 88.39\n",
      "('epoch : ', 2)\n",
      "[1600] , Word: 45.42, Topo: 87.89, Assm: 88.62\n",
      "[1800] , Word: 46.19, Topo: 87.90, Assm: 90.04\n",
      "[2000] , Word: 46.62, Topo: 87.90, Assm: 90.02\n",
      "[2200] , Word: 46.52, Topo: 87.83, Assm: 88.79\n",
      "('epoch : ', 3)\n",
      "[2400] , Word: 46.17, Topo: 87.93, Assm: 89.60\n"
     ]
    }
   ],
   "source": [
    "from MS_PredictModel import ms_peak_encoder,MS_Dataset\n",
    "from tqdm import tqdm\n",
    "import numpy as np\n",
    "\n",
    "pbar = None\n",
    "dataset.batch_size = 10\n",
    "def training(max_epoch = 100):\n",
    "    global pbar\n",
    "    total_step = 0\n",
    "    meters = np.zeros(3)\n",
    "    for epoch in range(max_epoch):\n",
    "        print(\"epoch : \",epoch)\n",
    "        for batch in dataset:\n",
    "            x_batch, x_jtenc_holder, x_mpn_holder, x_jtmpn_holder,x,y = batch\n",
    "            total_step+=1\n",
    "            #pbar.update(1)\n",
    "            enc_model.zero_grad()\n",
    "            h = enc_model(x,y)\n",
    "            tree_vec = h[:,:h.shape[1]/2]\n",
    "            mol_vec  = h[:,h.shape[1]/2:]\n",
    "            _, x_tree_mess = dec_model.jtnn(*x_jtenc_holder)\n",
    "            word_loss, topo_loss, word_acc, topo_acc = dec_model.decoder(x_batch,tree_vec)\n",
    "            assm_loss, assm_acc = dec_model.assm(x_batch, x_jtmpn_holder, mol_vec , x_tree_mess)\n",
    "            total_loss = word_loss+topo_loss+assm_loss\n",
    "            total_loss.backward()\n",
    "            optimizer.step()\n",
    "            \n",
    "            meters = meters + np.array([word_acc * 100, topo_acc * 100, assm_acc * 100])\n",
    "            if total_step % 200 == 0:\n",
    "                meters /= 200\n",
    "                print \"[%d] , Word: %.2f, Topo: %.2f, Assm: %.2f\" % (total_step,meters[0], meters[1], meters[2])\n",
    "                sys.stdout.flush()\n",
    "                meters *= 0\n",
    "            if total_step % 200 == 0:\n",
    "                torch.save(enc_model.state_dict(), \"./enc_model\" + \"/model.iter-\" + str(total_step))\n",
    "\n",
    "#import pdb; pdb.set_trace()\n",
    "try:\n",
    "    #if pbar is None:\n",
    "        #pbar = tqdm()\n",
    "    training(100)\n",
    "except RuntimeError as e:\n",
    "    #if pbar is not None:\n",
    "        #del pbar\n",
    "    import traceback\n",
    "    print(traceback.format_exc())\n",
    "    import pdb; pdb.set_trace()\n",
    "    print(e)\n",
    "\n"
   ]
  },
  {
   "cell_type": "code",
   "execution_count": null,
   "metadata": {},
   "outputs": [],
   "source": []
  }
 ],
 "metadata": {
  "kernelspec": {
   "display_name": "jtvae",
   "language": "python",
   "name": "jtvae"
  },
  "language_info": {
   "codemirror_mode": {
    "name": "ipython",
    "version": 2
   },
   "file_extension": ".py",
   "mimetype": "text/x-python",
   "name": "python",
   "nbconvert_exporter": "python",
   "pygments_lexer": "ipython2",
   "version": "2.7.15"
  }
 },
 "nbformat": 4,
 "nbformat_minor": 2
}
