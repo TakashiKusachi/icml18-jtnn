{
 "cells": [
  {
   "cell_type": "markdown",
   "metadata": {},
   "source": [
    "# 学習プログラム"
   ]
  },
  {
   "cell_type": "markdown",
   "metadata": {},
   "source": [
    "## path通し"
   ]
  },
  {
   "cell_type": "code",
   "execution_count": 1,
   "metadata": {},
   "outputs": [],
   "source": [
    "import sys\n",
    "import os\n",
    "\n",
    "sys.path.append(os.path.split(os.getcwd())[0])\n"
   ]
  },
  {
   "cell_type": "markdown",
   "metadata": {},
   "source": [
    "## vocablary作成\n",
    "すでにvocab.txtが作成済みである場合不用"
   ]
  },
  {
   "cell_type": "code",
   "execution_count": 2,
   "metadata": {},
   "outputs": [
    {
     "name": "stdin",
     "output_type": "stream",
     "text": [
      "user aisiars\n",
      " ··········\n"
     ]
    },
    {
     "name": "stderr",
     "output_type": "stream",
     "text": [
      "/usr/local/anaconda-aisiars/envs/jtvae/lib/python2.7/site-packages/ipykernel_launcher.py:43: UserWarning: Entered An SMILES that does not meet the rules\n"
     ]
    }
   ],
   "source": [
    "from fast_jtnn.mol_tree import MolTree\n",
    "from getpass import getpass,getuser\n",
    "\n",
    "import mysql\n",
    "from mysql import connector\n",
    "import warnings\n",
    "\n",
    "# SQL server profile\n",
    "host = \"localhost\"\n",
    "user = None\n",
    "passwd = None\n",
    "port = 3306\n",
    "database=\"chemoinfo\"\n",
    "\n",
    "# \n",
    "VOCAB_FILE = \"./MS_vocab.txt\"\n",
    "\n",
    "# get massbank data from SQL server\n",
    "try:\n",
    "    if not isinstance(user,str):\n",
    "        user = raw_input(\"user\")\n",
    "    if not isinstance(passwd,str):\n",
    "        passwd = getpass()\n",
    "    connect = connector.connect(host=host,user=user,password=passwd,port=port,database=database)\n",
    "    cursor = connect.cursor()\n",
    "    cursor.execute(\"\"\"select smiles from massbank where ms_type=\"MS\" and instrument_type=\"EI-B\"; \"\"\")\n",
    "    smiles_list = cursor.fetchall()\n",
    "except mysql.connector.Error as e:\n",
    "    print(\"Something went wrong: {}\".format(e))\n",
    "    sys.exit(1)\n",
    "finally:\n",
    "    if connect: connect.close()\n",
    "    if cursor: cursor.close()\n",
    "\n",
    "# create vocablary\n",
    "succes = 0\n",
    "fault = 0\n",
    "cset = set()\n",
    "for one in smiles_list:\n",
    "    try:\n",
    "        mol = MolTree(one[0])\n",
    "    except AttributeError as e:\n",
    "        warnings.warn(\"Entered An SMILES that does not meet the rules\")\n",
    "        continue\n",
    "    for c in mol.nodes:\n",
    "        cset.add(c.smiles)\n",
    "\n",
    "# write vocab\n",
    "with open(VOCAB_FILE,\"w\") as f:\n",
    "    for one in cset:\n",
    "        f.write(one+\"\\n\")"
   ]
  },
  {
   "cell_type": "markdown",
   "metadata": {},
   "source": [
    "# Vocabのロード"
   ]
  },
  {
   "cell_type": "code",
   "execution_count": 3,
   "metadata": {},
   "outputs": [],
   "source": [
    "from fast_jtnn import *\n",
    "\n",
    "vocab = [x.strip(\"\\r\\n \") for x in open(VOCAB_FILE,\"r\")]\n",
    "vocab = Vocab(vocab)"
   ]
  },
  {
   "cell_type": "markdown",
   "metadata": {},
   "source": [
    "## モデルの作成"
   ]
  },
  {
   "cell_type": "code",
   "execution_count": 4,
   "metadata": {},
   "outputs": [
    {
     "name": "stderr",
     "output_type": "stream",
     "text": [
      "/usr/local/anaconda-aisiars/envs/jtvae/lib/python2.7/site-packages/torch/nn/_reduction.py:49: UserWarning: size_average and reduce args will be deprecated, please use reduction='sum' instead.\n",
      "  warnings.warn(warning.format(ret))\n"
     ]
    },
    {
     "name": "stdout",
     "output_type": "stream",
     "text": [
      "JTNNVAE(\n",
      "  (jtnn): JTNNEncoder(\n",
      "    (embedding): Embedding(365, 45)\n",
      "    (outputNN): Sequential(\n",
      "      (0): Linear(in_features=90, out_features=45, bias=True)\n",
      "      (1): ReLU()\n",
      "    )\n",
      "    (GRU): GraphGRU(\n",
      "      (W_z): Linear(in_features=90, out_features=45, bias=True)\n",
      "      (W_r): Linear(in_features=45, out_features=45, bias=False)\n",
      "      (U_r): Linear(in_features=45, out_features=45, bias=True)\n",
      "      (W_h): Linear(in_features=90, out_features=45, bias=True)\n",
      "    )\n",
      "  )\n",
      "  (decoder): JTNNDecoder(\n",
      "    (embedding): Embedding(365, 45)\n",
      "    (W_z): Linear(in_features=90, out_features=45, bias=True)\n",
      "    (U_r): Linear(in_features=45, out_features=45, bias=False)\n",
      "    (W_r): Linear(in_features=45, out_features=45, bias=True)\n",
      "    (W_h): Linear(in_features=90, out_features=45, bias=True)\n",
      "    (W): Linear(in_features=73, out_features=45, bias=True)\n",
      "    (U): Linear(in_features=73, out_features=45, bias=True)\n",
      "    (U_i): Linear(in_features=90, out_features=45, bias=True)\n",
      "    (W_o): Linear(in_features=45, out_features=365, bias=True)\n",
      "    (U_o): Linear(in_features=45, out_features=1, bias=True)\n",
      "    (pred_loss): CrossEntropyLoss()\n",
      "    (stop_loss): BCEWithLogitsLoss()\n",
      "  )\n",
      "  (jtmpn): JTMPN(\n",
      "    (W_i): Linear(in_features=40, out_features=45, bias=False)\n",
      "    (W_h): Linear(in_features=45, out_features=45, bias=False)\n",
      "    (W_o): Linear(in_features=80, out_features=45, bias=True)\n",
      "  )\n",
      "  (mpn): MPN(\n",
      "    (W_i): Linear(in_features=50, out_features=45, bias=False)\n",
      "    (W_h): Linear(in_features=45, out_features=45, bias=False)\n",
      "    (W_o): Linear(in_features=84, out_features=45, bias=True)\n",
      "  )\n",
      "  (A_assm): Linear(in_features=28, out_features=45, bias=False)\n",
      "  (assm_loss): CrossEntropyLoss()\n",
      "  (T_mean): Linear(in_features=45, out_features=28, bias=True)\n",
      "  (T_var): Linear(in_features=45, out_features=28, bias=True)\n",
      "  (G_mean): Linear(in_features=45, out_features=28, bias=True)\n",
      "  (G_var): Linear(in_features=45, out_features=28, bias=True)\n",
      ")\n",
      "ms_peak_encoder(\n",
      "  (W1): Linear(in_features=348, out_features=56, bias=True)\n",
      "  (W2): Linear(in_features=56, out_features=56, bias=True)\n",
      ")\n",
      "Model #Params: 111K\n"
     ]
    }
   ],
   "source": [
    "from ms_encoder import ms_peak_encoder\n",
    "import torch.nn as nn\n",
    "hidden_size = 45\n",
    "latent_size = 56\n",
    "depthT = 20\n",
    "depthG = 3\n",
    "\n",
    "dec_model = JTNNVAE(vocab, hidden_size, latent_size, depthT, depthG).cuda()\n",
    "print dec_model\n",
    "enc_model = ms_peak_encoder(174,latent_size).cuda()\n",
    "print enc_model\n",
    "\n",
    "for param in dec_model.parameters():\n",
    "    if param.dim() == 1:\n",
    "        nn.init.constant_(param, 0)\n",
    "    else:\n",
    "        nn.init.xavier_normal_(param)\n",
    "        \n",
    "print \"Model #Params: %dK\" % (sum([x.nelement() for x in dec_model.parameters()]) / 1000,)"
   ]
  },
  {
   "cell_type": "markdown",
   "metadata": {},
   "source": [
    "## オプティマイザの設定"
   ]
  },
  {
   "cell_type": "code",
   "execution_count": 5,
   "metadata": {},
   "outputs": [],
   "source": [
    "import torch.optim as optim\n",
    "import torch.optim.lr_scheduler as lr_scheduler\n",
    "\n",
    "optimizer = optim.Adam(enc_model.parameters(), lr=1e-3)\n",
    "scheduler = lr_scheduler.ExponentialLR(optimizer, 0.9)\n",
    "scheduler.step()"
   ]
  },
  {
   "cell_type": "code",
   "execution_count": 6,
   "metadata": {},
   "outputs": [
    {
     "name": "stdin",
     "output_type": "stream",
     "text": [
      "user aisiars\n",
      " ··········\n"
     ]
    },
    {
     "name": "stderr",
     "output_type": "stream",
     "text": [
      " 25%|██▌       | 10/40 [00:04<00:44,  1.49s/it]/home/jupyterclient/jupyter_workspace/workspace/icml18-jtnn/MS_PredictModel/datautil.py:112: UserWarning: Entered An SMILES that does not meet the rules\n",
      "  warnings.warn(\"Entered An SMILES that does not meet the rules\")\n",
      "100%|██████████| 40/40 [00:06<00:00,  5.75it/s]"
     ]
    },
    {
     "name": "stdout",
     "output_type": "stream",
     "text": [
      "success 36,fault 4\n",
      "('epoch : ', 0)\n"
     ]
    },
    {
     "name": "stderr",
     "output_type": "stream",
     "text": [
      "\n",
      "/usr/local/anaconda-aisiars/envs/jtvae/lib/python2.7/site-packages/torch/nn/functional.py:1332: UserWarning: nn.functional.sigmoid is deprecated. Use torch.sigmoid instead.\n",
      "  warnings.warn(\"nn.functional.sigmoid is deprecated. Use torch.sigmoid instead.\")\n",
      "/usr/local/anaconda-aisiars/envs/jtvae/lib/python2.7/site-packages/torch/nn/functional.py:1320: UserWarning: nn.functional.tanh is deprecated. Use torch.tanh instead.\n",
      "  warnings.warn(\"nn.functional.tanh is deprecated. Use torch.tanh instead.\")\n"
     ]
    },
    {
     "name": "stdout",
     "output_type": "stream",
     "text": [
      "('epoch : ', 1)\n",
      "('epoch : ', 2)\n",
      "('epoch : ', 3)\n",
      "('epoch : ', 4)\n",
      "('epoch : ', 5)\n",
      "('epoch : ', 6)\n",
      "('epoch : ', 7)\n",
      "('epoch : ', 8)\n",
      "('epoch : ', 9)\n"
     ]
    }
   ],
   "source": [
    "from MS_PredictModel import ms_peak_encoder,MS_Dataset\n",
    "\n",
    "total_step = 0\n",
    "MS_Dataset.QUERY = \"\"\"select smiles,file_path from massbank where ms_type=\"MS\" and instrument_type=\"EI-B\" limit 40; \"\"\"\n",
    "dataset = MS_Dataset(vocab=vocab,host=\"localhost\",database=\"chemoinfo\",batch_size=4)\n",
    "for epoch in range(10):\n",
    "    print(\"epoch : \",epoch)\n",
    "    for batch in dataset:\n",
    "        x_batch, x_jtenc_holder, x_mpn_holder, x_jtmpn_holder,x,y = batch\n",
    "        total_step+=1\n",
    "        enc_model.zero_grad()\n",
    "        h = enc_model(x,y)\n",
    "        tree_vec = h[:,:h.shape[1]/2]\n",
    "        mol_vec  = h[:,h.shape[1]/2:]\n",
    "        _, x_tree_mess = dec_model.jtnn(*x_jtenc_holder)\n",
    "        word_loss, topo_loss, word_acc, topo_acc = dec_model.decoder(x_batch,tree_vec)\n",
    "        assm_loss, assm_acc = dec_model.assm(x_batch, x_jtmpn_holder, mol_vec , x_tree_mess)\n",
    "        total_loss = word_loss+topo_loss+assm_loss\n",
    "        total_loss.backward()\n",
    "        optimizer.step()"
   ]
  },
  {
   "cell_type": "code",
   "execution_count": 7,
   "metadata": {},
   "outputs": [
    {
     "data": {
      "text/plain": [
       "torch.Size([4, 56])"
      ]
     },
     "execution_count": 7,
     "metadata": {},
     "output_type": "execute_result"
    }
   ],
   "source": [
    "h.shape"
   ]
  },
  {
   "cell_type": "code",
   "execution_count": null,
   "metadata": {},
   "outputs": [],
   "source": []
  }
 ],
 "metadata": {
  "kernelspec": {
   "display_name": "jtvae",
   "language": "python",
   "name": "jtvae"
  },
  "language_info": {
   "codemirror_mode": {
    "name": "ipython",
    "version": 2
   },
   "file_extension": ".py",
   "mimetype": "text/x-python",
   "name": "python",
   "nbconvert_exporter": "python",
   "pygments_lexer": "ipython2",
   "version": "2.7.15"
  }
 },
 "nbformat": 4,
 "nbformat_minor": 2
}
