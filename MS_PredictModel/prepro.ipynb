{
 "cells": [
  {
   "cell_type": "markdown",
   "metadata": {},
   "source": [
    "## vocablary作成\n",
    "すでにvocab.txtが作成済みである場合不用"
   ]
  },
  {
   "cell_type": "code",
   "execution_count": 1,
   "metadata": {},
   "outputs": [],
   "source": [
    "import sys\n",
    "import os\n",
    "\n",
    "sys.path.append(os.path.split(os.getcwd())[0])\n"
   ]
  },
  {
   "cell_type": "code",
   "execution_count": 2,
   "metadata": {},
   "outputs": [
    {
     "name": "stdout",
     "output_type": "stream",
     "text": [
      "Waiting...\n",
      "Waiting...\n"
     ]
    }
   ],
   "source": [
    "from fast_jtnn.mol_tree import MolTree\n",
    "from getpass import getpass,getuser\n",
    "from multiprocessing import Pool\n",
    "\n",
    "import warnings\n",
    "\n",
    "load_smiles_file = \"./all_smiles.txt\"\n",
    "# \n",
    "VOCAB_FILE = \"./MS_vocab.txt\"\n",
    "\n",
    "with open(load_smiles_file,\"r\") as f:\n",
    "    smiles_list = [one.strip() for one in f.readlines() if one!=\"\\n\"]\n",
    "\n",
    "# create vocablary\n",
    "succes = 0\n",
    "fault = 0\n",
    "cset = set()\n",
    "\n",
    "def get_vocab(smiles):\n",
    "    cset = set()\n",
    "    mol = MolTree(smiles)\n",
    "    for c in mol.nodes:\n",
    "        cset.add(c.smiles)\n",
    "    return cset\n",
    "\n",
    "def callback(one_set):\n",
    "    global cset\n",
    "    for one in one_set:\n",
    "        cset |= one\n",
    "\n",
    "p = Pool()\n",
    "try:\n",
    "    r = p.map_async(get_vocab,smiles_list,callback=callback)\n",
    "    while not r.ready():\n",
    "            # 1秒おきに完了チェック\n",
    "            r.wait(timeout=60)\n",
    "            print('Waiting...')\n",
    "finally:\n",
    "    p.close()\n",
    "    p.join()\n",
    "\n",
    "# write vocab\n",
    "with open(VOCAB_FILE,\"w\") as f:\n",
    "    for one in cset:\n",
    "        f.write(one+\"\\n\")"
   ]
  },
  {
   "cell_type": "code",
   "execution_count": 3,
   "metadata": {},
   "outputs": [
    {
     "name": "stdout",
     "output_type": "stream",
     "text": [
      "263184\n",
      "1027\n"
     ]
    }
   ],
   "source": [
    "print len(smiles_list)\n",
    "print len(cset)"
   ]
  },
  {
   "cell_type": "raw",
   "metadata": {},
   "source": [
    "export PYTHONPATH=$PREFIX/icml18-jtnn"
   ]
  },
  {
   "cell_type": "raw",
   "metadata": {},
   "source": [
    "python ../fast_molvae/preprocess.py --train ./all_smiles.txt --split 100 --jobs 16\n",
    "mkdir processed\n",
    "mv tensor* processed"
   ]
  },
  {
   "cell_type": "raw",
   "metadata": {},
   "source": [
    "mkdir vae_model/\n",
    "python ../fast_molvae/vae_train.py --train processed --vocab ./MS_vocab.txt --save_dir vae_model/ --hidden_size 100 --print_iter 500 --save_iter 500 --epoch 100 --batch_size 20 --kl_anneal_iter 10000 --warmup 10000"
   ]
  }
 ],
 "metadata": {
  "kernelspec": {
   "display_name": "jtvae",
   "language": "python",
   "name": "jtvae"
  },
  "language_info": {
   "codemirror_mode": {
    "name": "ipython",
    "version": 2
   },
   "file_extension": ".py",
   "mimetype": "text/x-python",
   "name": "python",
   "nbconvert_exporter": "python",
   "pygments_lexer": "ipython2",
   "version": "2.7.16"
  }
 },
 "nbformat": 4,
 "nbformat_minor": 2
}
