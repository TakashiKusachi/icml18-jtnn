{
 "cells": [
  {
   "cell_type": "markdown",
   "metadata": {},
   "source": [
    "## download original database "
   ]
  },
  {
   "cell_type": "code",
   "execution_count": 1,
   "metadata": {},
   "outputs": [
    {
     "name": "stdout",
     "output_type": "stream",
     "text": [
      "fatal: destination path 'MassBank-data' already exists and is not an empty directory.\n"
     ]
    }
   ],
   "source": [
    "! git clone https://github.com/MassBank/MassBank-data.git"
   ]
  },
  {
   "cell_type": "code",
   "execution_count": 2,
   "metadata": {},
   "outputs": [],
   "source": [
    "import os\n",
    "from glob import glob\n",
    "import sys\n",
    "from multiprocessing import Pool\n",
    "import numpy as np\n",
    "import pickle\n",
    "\n",
    "\n",
    "\n",
    "from tqdm import tqdm"
   ]
  },
  {
   "cell_type": "code",
   "execution_count": 2,
   "metadata": {},
   "outputs": [
    {
     "name": "stderr",
     "output_type": "stream",
     "text": [
      "100%|██████████| 45/45 [00:00<00:00, 66.91it/s]"
     ]
    },
    {
     "name": "stdout",
     "output_type": "stream",
     "text": [
      "number of file list 56270\n"
     ]
    },
    {
     "name": "stderr",
     "output_type": "stream",
     "text": [
      "\n"
     ]
    }
   ],
   "source": [
    "vender_list = glob(\"./MassBank-data/*\")\n",
    "file_list = []\n",
    "for ven in tqdm(vender_list):\n",
    "    file_list.extend([os.path.abspath(one) for one in glob(ven+\"/*.txt\")])\n",
    "\n",
    "print(\"number of file list\",len(file_list))"
   ]
  },
  {
   "cell_type": "code",
   "execution_count": 3,
   "metadata": {},
   "outputs": [
    {
     "name": "stdout",
     "output_type": "stream",
     "text": [
      "number of expand data: 56270\n"
     ]
    }
   ],
   "source": [
    "NUMBET_OF_MP_PROCESSES = 3 # Number of processes use to parse and expand data.\n",
    "\n",
    "AUTHORS = \"AUTHORS\"\n",
    "AC_INSTRUMENT = \"AC$INSTRUMENT\"\n",
    "AC_INSTRUMENT_TYPE = \"AC$INSTRUMENT_TYPE\"\n",
    "CH_NAME = \"CH$NAME\"\n",
    "CH_SMILES = \"CH$SMILES\"\n",
    "AC_MASS_SPECTROETRY = \"AC$MASS_SPECTROMETRY\"\n",
    "MS_TYPE = \"MS_TYPE\"\n",
    "ION_MODE = \"ION_MODE\"\n",
    "IONIZATION_ENERGY = \"IONIZATION_ENERGY\"\n",
    "\n",
    "def analyze(args):\n",
    "    num,path = args\n",
    "    #param init \n",
    "    auth = None\n",
    "    inst = None\n",
    "    inst_type = None\n",
    "    name = None\n",
    "    smiles = None\n",
    "    ms_type = None\n",
    "    ion_mode = None\n",
    "    ret = {}\n",
    "    with open(path) as f:\n",
    "        temp = f.read().split(\"\\n\")\n",
    "        for num,line in enumerate(temp):\n",
    "            row = line.split(\": \",1)\n",
    "            if row[0] == AUTHORS:\n",
    "                ret[\"authors\"]= row[1]\n",
    "            elif row[0] == AC_INSTRUMENT:\n",
    "                ret[\"instrument\"] = row[1]\n",
    "            elif row[0] == AC_INSTRUMENT_TYPE:\n",
    "                ret[\"instrument_type\"] = row[1]\n",
    "            elif row[0] == CH_NAME:\n",
    "                ret[\"name\"] = row[1]\n",
    "            elif row[0] == CH_SMILES:\n",
    "                ret[\"smiles\"] = row[1]\n",
    "            elif row[0] == AC_MASS_SPECTROETRY:\n",
    "                label,_type = row[1].split(\" \",1)\n",
    "                if label == MS_TYPE:\n",
    "                    ret[\"ms_type\"] = _type\n",
    "                elif label == ION_MODE:\n",
    "                    ret[\"ion_mode\"] = _type\n",
    "                elif label == IONIZATION_ENERGY:\n",
    "                    ret[\"ionization_energy\"] = _type\n",
    "            elif row[0] == \"PK$PEAK\":\n",
    "                peak_start = num+1\n",
    "        peak_x,peak_y = zip(*[one.split(\" \")[2:4] for one in temp[peak_start:-1] if one != \"//\"])\n",
    "        ret[\"peak_x\"] = np.array(peak_x,dtype=np.float32)\n",
    "        ret[\"peak_y\"] = np.array(peak_y,dtype=np.float32)\n",
    "    ret[\"path\"] = path\n",
    "    return ret\n",
    "\n",
    "with Pool(processes=NUMBET_OF_MP_PROCESSES) as p:\n",
    "        ret = p.map(analyze,enumerate(file_list))\n",
    "\n",
    "print(\"number of expand data:\",len(ret))\n",
    "\n",
    "import pickle\n",
    "with open(\"massbank.pkl\",\"wb\") as f:\n",
    "    pickle.dump(ret,f,protocol=2)"
   ]
  },
  {
   "cell_type": "code",
   "execution_count": 3,
   "metadata": {},
   "outputs": [],
   "source": [
    "with open(\"massbank.pkl\",\"rb\") as f:\n",
    "    li = pickle.load(f)"
   ]
  },
  {
   "cell_type": "code",
   "execution_count": 5,
   "metadata": {},
   "outputs": [
    {
     "name": "stdout",
     "output_type": "stream",
     "text": [
      "7463\n",
      "7316\n"
     ]
    }
   ],
   "source": [
    "def is_select(one):\n",
    "    return one[\"smiles\"]!=\"N/A\" and \\\n",
    "        one[\"ms_type\"]==\"MS\" and \\\n",
    "        one[\"instrument_type\"]==\"EI-B\" and \\\n",
    "        \"ionization_energy\" in one and \\\n",
    "        one[\"ionization_energy\"]==\"70 eV\" and \\\n",
    "        one[\"ion_mode\"]==\"POSITIVE\"\n",
    "\n",
    "def is_select_new(one):\n",
    "    return one[\"smiles\"]!=\"N/A\" and \\\n",
    "        one[\"ms_type\"]==\"MS\" and \\\n",
    "        one[\"instrument_type\"]==\"EI-B\" and \\\n",
    "        \"ionization_energy\" in one and \\\n",
    "        one[\"ionization_energy\"]==\"70 eV\" and \\\n",
    "        one[\"ion_mode\"]==\"POSITIVE\" and \\\n",
    "        \"2H\" not in one[\"smiles\"]\n",
    "\n",
    "ret = [one for one in li if is_select(one)]\n",
    "print(len(ret))\n",
    "ret = [one for one in li if is_select_new(one)]\n",
    "print(len(ret))"
   ]
  },
  {
   "cell_type": "raw",
   "metadata": {},
   "source": []
  }
 ],
 "metadata": {
  "kernelspec": {
   "display_name": "chainer",
   "language": "python",
   "name": "chainer"
  },
  "language_info": {
   "codemirror_mode": {
    "name": "ipython",
    "version": 3
   },
   "file_extension": ".py",
   "mimetype": "text/x-python",
   "name": "python",
   "nbconvert_exporter": "python",
   "pygments_lexer": "ipython3",
   "version": "3.7.1"
  }
 },
 "nbformat": 4,
 "nbformat_minor": 2
}
